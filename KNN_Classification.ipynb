{
 "cells": [
  {
   "cell_type": "code",
   "execution_count": 149,
   "id": "4e44b6c0",
   "metadata": {
    "scrolled": true
   },
   "outputs": [
    {
     "data": {
      "text/html": [
       "<div>\n",
       "<style scoped>\n",
       "    .dataframe tbody tr th:only-of-type {\n",
       "        vertical-align: middle;\n",
       "    }\n",
       "\n",
       "    .dataframe tbody tr th {\n",
       "        vertical-align: top;\n",
       "    }\n",
       "\n",
       "    .dataframe thead th {\n",
       "        text-align: right;\n",
       "    }\n",
       "</style>\n",
       "<table border=\"1\" class=\"dataframe\">\n",
       "  <thead>\n",
       "    <tr style=\"text-align: right;\">\n",
       "      <th></th>\n",
       "      <th>Glycohemoglobin (%)  (AIC)</th>\n",
       "      <th>Smoked at least 100 cigarettes</th>\n",
       "      <th>BMI</th>\n",
       "      <th>Weight (kg)</th>\n",
       "      <th>Waist Circumference (cm)</th>\n",
       "      <th>Arm Circumference (cm)</th>\n",
       "      <th>Hip Circumference (cm)</th>\n",
       "      <th># of meals not home prepared</th>\n",
       "      <th>Total Cholesterol (mg/dL)</th>\n",
       "      <th>Has diabetes</th>\n",
       "      <th>...</th>\n",
       "      <th>Other Hispanic</th>\n",
       "      <th>Black</th>\n",
       "      <th>Asian</th>\n",
       "      <th>Other</th>\n",
       "      <th>Marital Status: Together</th>\n",
       "      <th>Marital Status: Separated</th>\n",
       "      <th>Highest Education: Some High School</th>\n",
       "      <th>Highest Education: High School</th>\n",
       "      <th>Highest Education: Some College</th>\n",
       "      <th>Highest Education: College</th>\n",
       "    </tr>\n",
       "  </thead>\n",
       "  <tbody>\n",
       "    <tr>\n",
       "      <th>0</th>\n",
       "      <td>5.7</td>\n",
       "      <td>0</td>\n",
       "      <td>30.2</td>\n",
       "      <td>103.7</td>\n",
       "      <td>109.6</td>\n",
       "      <td>32.0</td>\n",
       "      <td>107.8</td>\n",
       "      <td>0</td>\n",
       "      <td>105.0</td>\n",
       "      <td>1</td>\n",
       "      <td>...</td>\n",
       "      <td>0</td>\n",
       "      <td>0</td>\n",
       "      <td>0</td>\n",
       "      <td>1</td>\n",
       "      <td>0</td>\n",
       "      <td>0</td>\n",
       "      <td>0</td>\n",
       "      <td>0</td>\n",
       "      <td>1</td>\n",
       "      <td>0</td>\n",
       "    </tr>\n",
       "    <tr>\n",
       "      <th>1</th>\n",
       "      <td>6.4</td>\n",
       "      <td>0</td>\n",
       "      <td>30.5</td>\n",
       "      <td>86.0</td>\n",
       "      <td>108.3</td>\n",
       "      <td>29.0</td>\n",
       "      <td>106.4</td>\n",
       "      <td>2</td>\n",
       "      <td>172.0</td>\n",
       "      <td>1</td>\n",
       "      <td>...</td>\n",
       "      <td>1</td>\n",
       "      <td>0</td>\n",
       "      <td>0</td>\n",
       "      <td>0</td>\n",
       "      <td>0</td>\n",
       "      <td>1</td>\n",
       "      <td>0</td>\n",
       "      <td>1</td>\n",
       "      <td>0</td>\n",
       "      <td>0</td>\n",
       "    </tr>\n",
       "    <tr>\n",
       "      <th>2</th>\n",
       "      <td>5.4</td>\n",
       "      <td>0</td>\n",
       "      <td>29.6</td>\n",
       "      <td>62.0</td>\n",
       "      <td>84.8</td>\n",
       "      <td>29.8</td>\n",
       "      <td>106.7</td>\n",
       "      <td>3</td>\n",
       "      <td>200.0</td>\n",
       "      <td>0</td>\n",
       "      <td>...</td>\n",
       "      <td>0</td>\n",
       "      <td>0</td>\n",
       "      <td>1</td>\n",
       "      <td>0</td>\n",
       "      <td>1</td>\n",
       "      <td>0</td>\n",
       "      <td>0</td>\n",
       "      <td>0</td>\n",
       "      <td>0</td>\n",
       "      <td>1</td>\n",
       "    </tr>\n",
       "    <tr>\n",
       "      <th>3</th>\n",
       "      <td>5.3</td>\n",
       "      <td>1</td>\n",
       "      <td>24.6</td>\n",
       "      <td>67.9</td>\n",
       "      <td>87.0</td>\n",
       "      <td>31.0</td>\n",
       "      <td>93.4</td>\n",
       "      <td>0</td>\n",
       "      <td>161.0</td>\n",
       "      <td>0</td>\n",
       "      <td>...</td>\n",
       "      <td>0</td>\n",
       "      <td>0</td>\n",
       "      <td>1</td>\n",
       "      <td>0</td>\n",
       "      <td>1</td>\n",
       "      <td>0</td>\n",
       "      <td>0</td>\n",
       "      <td>0</td>\n",
       "      <td>0</td>\n",
       "      <td>0</td>\n",
       "    </tr>\n",
       "    <tr>\n",
       "      <th>4</th>\n",
       "      <td>5.9</td>\n",
       "      <td>0</td>\n",
       "      <td>25.2</td>\n",
       "      <td>75.2</td>\n",
       "      <td>95.0</td>\n",
       "      <td>32.0</td>\n",
       "      <td>96.4</td>\n",
       "      <td>6</td>\n",
       "      <td>224.0</td>\n",
       "      <td>0</td>\n",
       "      <td>...</td>\n",
       "      <td>0</td>\n",
       "      <td>0</td>\n",
       "      <td>0</td>\n",
       "      <td>0</td>\n",
       "      <td>1</td>\n",
       "      <td>0</td>\n",
       "      <td>0</td>\n",
       "      <td>0</td>\n",
       "      <td>1</td>\n",
       "      <td>0</td>\n",
       "    </tr>\n",
       "  </tbody>\n",
       "</table>\n",
       "<p>5 rows × 89 columns</p>\n",
       "</div>"
      ],
      "text/plain": [
       "   Glycohemoglobin (%)  (AIC)  Smoked at least 100 cigarettes   BMI  \\\n",
       "0                         5.7                               0  30.2   \n",
       "1                         6.4                               0  30.5   \n",
       "2                         5.4                               0  29.6   \n",
       "3                         5.3                               1  24.6   \n",
       "4                         5.9                               0  25.2   \n",
       "\n",
       "   Weight (kg)  Waist Circumference (cm)  Arm Circumference (cm)  \\\n",
       "0        103.7                     109.6                    32.0   \n",
       "1         86.0                     108.3                    29.0   \n",
       "2         62.0                      84.8                    29.8   \n",
       "3         67.9                      87.0                    31.0   \n",
       "4         75.2                      95.0                    32.0   \n",
       "\n",
       "   Hip Circumference (cm)  # of meals not home prepared  \\\n",
       "0                   107.8                             0   \n",
       "1                   106.4                             2   \n",
       "2                   106.7                             3   \n",
       "3                    93.4                             0   \n",
       "4                    96.4                             6   \n",
       "\n",
       "   Total Cholesterol (mg/dL)  Has diabetes  ...  Other Hispanic  Black  Asian  \\\n",
       "0                      105.0             1  ...               0      0      0   \n",
       "1                      172.0             1  ...               1      0      0   \n",
       "2                      200.0             0  ...               0      0      1   \n",
       "3                      161.0             0  ...               0      0      1   \n",
       "4                      224.0             0  ...               0      0      0   \n",
       "\n",
       "   Other  Marital Status: Together  Marital Status: Separated  \\\n",
       "0      1                         0                          0   \n",
       "1      0                         0                          1   \n",
       "2      0                         1                          0   \n",
       "3      0                         1                          0   \n",
       "4      0                         1                          0   \n",
       "\n",
       "   Highest Education: Some High School  Highest Education: High School  \\\n",
       "0                                    0                               0   \n",
       "1                                    0                               1   \n",
       "2                                    0                               0   \n",
       "3                                    0                               0   \n",
       "4                                    0                               0   \n",
       "\n",
       "   Highest Education: Some College  Highest Education: College  \n",
       "0                                1                           0  \n",
       "1                                0                           0  \n",
       "2                                0                           1  \n",
       "3                                0                           0  \n",
       "4                                1                           0  \n",
       "\n",
       "[5 rows x 89 columns]"
      ]
     },
     "execution_count": 149,
     "metadata": {},
     "output_type": "execute_result"
    }
   ],
   "source": [
    "#Load in data\n",
    "import pandas as pd\n",
    "data = pd.read_csv('data/ClassData.csv')\n",
    "data.head()"
   ]
  },
  {
   "cell_type": "code",
   "execution_count": 150,
   "id": "0a098430",
   "metadata": {},
   "outputs": [],
   "source": [
    "# Split data\n",
    "X = data.drop(columns = 'Has diabetes')\n",
    "y = data['Has diabetes']\n",
    "from sklearn.model_selection import train_test_split\n",
    "X_train, X_test, y_train, y_test = train_test_split(X, y, test_size = 0.2, random_state = 1)\n",
    "\n",
    "import numpy as np\n",
    "X_train = np.array(X_train)\n",
    "X_test = np.array(X_test)\n",
    "y_train = np.array(y_train)\n",
    "y_test = np.array(y_test)"
   ]
  },
  {
   "cell_type": "markdown",
   "id": "1d56c07a",
   "metadata": {},
   "source": [
    "## Determine Optimal k"
   ]
  },
  {
   "cell_type": "code",
   "execution_count": 151,
   "id": "9553465e",
   "metadata": {},
   "outputs": [
    {
     "data": {
      "text/plain": [
       "Text(0.5, 1.0, 'CV Error Rates for Selecting K')"
      ]
     },
     "execution_count": 151,
     "metadata": {},
     "output_type": "execute_result"
    },
    {
     "data": {
      "image/png": "[encoded data removed]",
      "text/plain": [
       "<Figure size 640x480 with 1 Axes>"
      ]
     },
     "metadata": {},
     "output_type": "display_data"
    }
   ],
   "source": [
    "# 10-Fold CV\n",
    "from sklearn.model_selection import KFold\n",
    "from sklearn.neighbors import KNeighborsClassifier\n",
    "import matplotlib.pyplot as plt\n",
    "\n",
    "kf = KFold(n_splits = 10)\n",
    "fold1, fold2, fold3, fold4, fold5, fold6, fold7, fold8, fold9, fold10 = kf.split(X_train)\n",
    "folds = [fold1, fold2, fold3, fold4, fold5, fold6, fold7, fold8, fold9, fold10]\n",
    "\n",
    "CV_err_rates_k = []\n",
    "for k in range(1, 31):\n",
    "    incorrect = []\n",
    "    \n",
    "    for fold in folds:\n",
    "        knn = KNeighborsClassifier(n_neighbors = k)\n",
    "        knn.fit(X_train[fold[0]], y_train[fold[0]])\n",
    "        preds = knn.predict(X_train[fold[1]])\n",
    "        \n",
    "        for i in range(0, len(preds)):\n",
    "            if preds[i] != y_train[fold[1]][i]:\n",
    "                incorrect.append(1)\n",
    "            else:\n",
    "                incorrect.append(0)\n",
    "                \n",
    "    CV_err_rates_k.append(sum(incorrect)/len(incorrect))\n",
    "            \n",
    "train_CV_err_rates = CV_err_rates_k\n",
    "\n",
    "\n",
    "fold1, fold2, fold3, fold4, fold5, fold6, fold7, fold8, fold9, fold10 = kf.split(X_test)\n",
    "folds = [fold1, fold2, fold3, fold4, fold5, fold6, fold7, fold8, fold9, fold10]\n",
    "\n",
    "CV_err_rates_k = []\n",
    "for k in range(1, 31):\n",
    "    incorrect = []\n",
    "    \n",
    "    for fold in folds:\n",
    "        knn = KNeighborsClassifier(n_neighbors = k)\n",
    "        knn.fit(X_test[fold[0]], y_test[fold[0]])\n",
    "        preds = knn.predict(X_test[fold[1]])\n",
    "        \n",
    "        for i in range(0, len(preds)):\n",
    "            if preds[i] != y_test[fold[1]][i]:\n",
    "                incorrect.append(1)\n",
    "            else:\n",
    "                incorrect.append(0)\n",
    "                \n",
    "    CV_err_rates_k.append(sum(incorrect)/len(incorrect))\n",
    "            \n",
    "test_CV_err_rates = CV_err_rates_k\n",
    "\n",
    "\n",
    "plt.plot(range(1, 31), train_CV_err_rates, label = 'Training CV Error Rate')\n",
    "plt.plot(range(1, 31), test_CV_err_rates, label = 'Testing CV Error Rate')\n",
    "plt.legend()\n",
    "plt.xlabel('# Neighbors')\n",
    "plt.ylabel('Error Rate')\n",
    "plt.title('CV Error Rates for Selecting K')"
   ]
  },
  {
   "cell_type": "code",
   "execution_count": 157,
   "id": "3d103d62",
   "metadata": {},
   "outputs": [
    {
     "name": "stdout",
     "output_type": "stream",
     "text": [
      "0.14859632139399806\n",
      "0.13152804642166344\n"
     ]
    }
   ],
   "source": [
    "print(min(train_CV_err_rates))\n",
    "print(min(test_CV_err_rates))"
   ]
  },
  {
   "cell_type": "markdown",
   "id": "3500ae24",
   "metadata": {},
   "source": [
    "k = 17, 19, 21 are tied for the lowest training error rate at 0.1486.<br/>\n",
    "k = 5 has the lowest test error rate at 0.1315."
   ]
  },
  {
   "cell_type": "markdown",
   "id": "0ddaaf8d",
   "metadata": {},
   "source": [
    "## Determine Optimal Predictors"
   ]
  },
  {
   "cell_type": "code",
   "execution_count": 152,
   "id": "639d0e3e",
   "metadata": {},
   "outputs": [],
   "source": [
    "# Forward Stepwise Selection\n",
    "missing_vars = list(range(0, X_train.shape[1]))\n",
    "\n",
    "kf = KFold(n_splits = 5) # 10 took too long\n",
    "fold1, fold2, fold3, fold4, fold5 = kf.split(X_train) \n",
    "folds = [fold1, fold2, fold3, fold4, fold5]\n",
    "\n",
    "CV_err_rates = []\n",
    "selected = []\n",
    "models = []\n",
    "num_missing_vars = len(missing_vars)\n",
    "while num_missing_vars > 0:\n",
    "    \n",
    "    model_err_rates = []\n",
    "    for i in missing_vars:\n",
    "        predictors = selected[:]\n",
    "        predictors.append(i)\n",
    "        \n",
    "        incorrect = []\n",
    "        for fold in folds:\n",
    "            knn = KNeighborsClassifier(n_neighbors = 5)\n",
    "            knn.fit(X_train[fold[0]][:, predictors].reshape(-1, len(predictors)), y_train[fold[0]])\n",
    "            preds = knn.predict(X_train[fold[1]][:, predictors])\n",
    "            \n",
    "            for i2 in range(0, len(preds)):\n",
    "                if preds[i2] != y_train[fold[1]][i2]:\n",
    "                    incorrect.append(1)\n",
    "                else:\n",
    "                    incorrect.append(0)\n",
    "        \n",
    "        model_err_rates.append(sum(incorrect)/len(incorrect))\n",
    "    \n",
    "    lowest_err_rate = min(model_err_rates)\n",
    "    best_missing_var_index = model_err_rates.index(lowest_err_rate)\n",
    "    \n",
    "    CV_err_rates.append(lowest_err_rate)\n",
    "    selected.append(missing_vars[best_missing_var_index])\n",
    "    models.append(selected[:])\n",
    "    \n",
    "    missing_vars.pop(best_missing_var_index)\n",
    "    num_missing_vars = len(missing_vars)\n",
    "    "
   ]
  },
  {
   "cell_type": "code",
   "execution_count": 171,
   "id": "b486116d",
   "metadata": {},
   "outputs": [
    {
     "name": "stdout",
     "output_type": "stream",
     "text": [
      "Best training model used variables\n",
      "['Glycohemoglobin (%)  (AIC)' 'Doctor ever said you were overweight'\n",
      " 'Gender' 'Drank 3-6 per Year' 'Walk or bicycle'\n",
      " 'Ever told you had any liver condition' 'Poor health condition'\n",
      " 'Poor diet health' 'Has job and worked' 'Fair health condition'\n",
      " 'Several Days Depressed' 'More than Half Days Bad Diet']\n",
      "and had a CV training error rate of 0.06727976766698936.\n"
     ]
    }
   ],
   "source": [
    "print(\"Best training model used variables\")\n",
    "print(np.array(data.columns[models[CV_err_rates.index(min(CV_err_rates))]]))      \n",
    "print('and had a CV training error rate of ', min(CV_err_rates), '.', sep='')"
   ]
  },
  {
   "cell_type": "code",
   "execution_count": 154,
   "id": "818e58b3",
   "metadata": {},
   "outputs": [],
   "source": [
    "# Acquire test CV error rates\n",
    "kf = KFold(n_splits = 5)\n",
    "fold1, fold2, fold3, fold4, fold5 = kf.split(X_test)\n",
    "folds = [fold1, fold2, fold3, fold4, fold5]\n",
    "\n",
    "CV_test_errs = []\n",
    "for model in models:\n",
    "    \n",
    "    incorrect = []\n",
    "    for fold in folds:\n",
    "        knn = KNeighborsClassifier(n_neighbors = 5)\n",
    "        knn.fit(X_test[np.ix_(fold[0], model)], y_test[fold[0]])\n",
    "        preds = knn.predict(X_test[np.ix_(fold[1], model)])\n",
    "        \n",
    "        for i in range(0, len(preds)):\n",
    "            if preds[i] != y_test[fold[1]][i]:\n",
    "                incorrect.append(1)\n",
    "            else:\n",
    "                incorrect.append(0)\n",
    "    CV_test_errs.append(sum(incorrect)/len(incorrect))"
   ]
  },
  {
   "cell_type": "code",
   "execution_count": 155,
   "id": "e4a467ba",
   "metadata": {},
   "outputs": [
    {
     "data": {
      "text/plain": [
       "Text(0.5, 1.0, 'CV Error Rates for Determining Predictors')"
      ]
     },
     "execution_count": 155,
     "metadata": {},
     "output_type": "execute_result"
    },
    {
     "data": {
      "image/png": "[encoded data removed]",
      "text/plain": [
       "<Figure size 640x480 with 1 Axes>"
      ]
     },
     "metadata": {},
     "output_type": "display_data"
    }
   ],
   "source": [
    "plt.plot(range(1, data.shape[1]), CV_err_rates, label = 'CV Training Error Rate')\n",
    "plt.plot(range(1, data.shape[1]), CV_test_errs, label = 'CV Testing Error Rate')\n",
    "plt.xlabel('Model (by # of Parameters)')\n",
    "plt.ylabel('Error Rate')\n",
    "plt.title('CV Error Rates for Determining Predictors')"
   ]
  },
  {
   "cell_type": "code",
   "execution_count": 172,
   "id": "afddc4ed",
   "metadata": {},
   "outputs": [
    {
     "name": "stdout",
     "output_type": "stream",
     "text": [
      "Best testing model used the variables\n",
      "['Glycohemoglobin (%)  (AIC)' 'Doctor ever said you were overweight'\n",
      " 'Gender' 'Drank 3-6 per Year']\n",
      "and had a CV test error rate of 0.06963249516441006.\n"
     ]
    }
   ],
   "source": [
    "print(\"Best testing model used the variables\")\n",
    "print(np.array(data.columns[models[CV_test_errs.index(min(CV_test_errs))]]))\n",
    "print('and had a CV test error rate of ', min(CV_test_errs), '.', sep='')"
   ]
  },
  {
   "cell_type": "code",
   "execution_count": 176,
   "id": "4a829f81",
   "metadata": {},
   "outputs": [
    {
     "data": {
      "text/plain": [
       "[0, 19, 40, 76]"
      ]
     },
     "execution_count": 176,
     "metadata": {},
     "output_type": "execute_result"
    }
   ],
   "source": [
    "models[3]"
   ]
  },
  {
   "cell_type": "markdown",
   "id": "c3b3172c",
   "metadata": {},
   "source": [
    "## Best KNN for Classifying Diabetes"
   ]
  },
  {
   "cell_type": "markdown",
   "id": "acb60f48",
   "metadata": {},
   "source": [
    "Best KNN should use K = 5 with variable 0 \"Glycohemoglobin (%)  (AIC)\", variable 19 \"Docter ever said you were overweight\", variable 40 \"Gender\", and variable 76 \"Drank 3-6 times per Year\" as predictors."
   ]
  },
  {
   "cell_type": "code",
   "execution_count": 181,
   "id": "9289bdac",
   "metadata": {},
   "outputs": [
    {
     "name": "stdout",
     "output_type": "stream",
     "text": [
      "Final Training Error Rate: 0.0696999031945789\n",
      "Final Testing Error Rate: 0.07736943907156674\n"
     ]
    }
   ],
   "source": [
    "knn = KNeighborsClassifier(n_neighbors = 5)\n",
    "knn.fit(X_train[:, [0, 19, 40, 76]], y_train)\n",
    "train_preds = knn.predict(X_train[:, [0, 19, 40, 76]])\n",
    "test_preds = knn.predict(X_test[:, [0, 19, 40, 76]])\n",
    "\n",
    "train_incorrect = []\n",
    "for i in range(0, len(train_preds)):\n",
    "    if train_preds[i] != y_train[i]:\n",
    "        train_incorrect.append(1)\n",
    "    else:\n",
    "        train_incorrect.append(0)\n",
    "\n",
    "test_incorrect = []\n",
    "for i in range(0, len(test_preds)):\n",
    "    if test_preds[i] != y_test[i]:\n",
    "        test_incorrect.append(1)\n",
    "    else:\n",
    "        test_incorrect.append(0)\n",
    "\n",
    "print('Final Training Error Rate:', sum(train_incorrect)/len(train_incorrect))\n",
    "print('Final Testing Error Rate:', sum(test_incorrect)/len(test_incorrect))"
   ]
  },
  {
   "cell_type": "code",
   "execution_count": null,
   "id": "46248326",
   "metadata": {},
   "outputs": [],
   "source": []
  }
 ],
 "metadata": {
  "kernelspec": {
   "display_name": "Python 3 (ipykernel)",
   "language": "python",
   "name": "python3"
  },
  "language_info": {
   "codemirror_mode": {
    "name": "ipython",
    "version": 3
   },
   "file_extension": ".py",
   "mimetype": "text/x-python",
   "name": "python",
   "nbconvert_exporter": "python",
   "pygments_lexer": "ipython3",
   "version": "3.11.5"
  }
 },
 "nbformat": 4,
 "nbformat_minor": 5
}
